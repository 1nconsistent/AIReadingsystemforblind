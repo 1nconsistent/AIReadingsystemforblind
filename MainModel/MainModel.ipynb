{
 "cells": [
  {
   "cell_type": "code",
   "execution_count": 1,
   "metadata": {},
   "outputs": [
    {
     "name": "stdout",
     "output_type": "stream",
     "text": [
      "Looking for C:\\Users\\Suraj Kumar M\\.keras-ocr\\craft_mlt_25k.h5\n",
      "Looking for C:\\Users\\Suraj Kumar M\\.keras-ocr\\crnn_kurapan.h5\n"
     ]
    }
   ],
   "source": [
    "from tkinter import *\n",
    "from tkinter import filedialog\n",
    "from PIL import Image, ImageTk\n",
    "import matplotlib.pyplot as plt\n",
    "import keras_ocr\n",
    "pipeline = keras_ocr.pipeline.Pipeline()"
   ]
  },
  {
   "cell_type": "code",
   "execution_count": 2,
   "metadata": {},
   "outputs": [],
   "source": [
    "def close():\n",
    "    root.destroy()\n",
    "\n",
    "root =Tk()\n",
    "root.title('ORC AI')\n",
    "root.filename=filedialog.askopenfile(initialdir= \"D:/\", title=\"Select a file\", filetypes=((\"jpg files\", \"*.jpg\"),(\"all files\", \"*.*\")))\n",
    "str= root.filename.name\n",
    "button = Button(root, text = 'Close the window', command = close)\n",
    "button.pack(pady = 10)\n",
    " \n",
    "root.mainloop()\n"
   ]
  },
  {
   "cell_type": "code",
   "execution_count": 3,
   "metadata": {},
   "outputs": [],
   "source": [
    "# Get a set of three example images\n",
    "images = [keras_ocr.tools.read(str)]\n",
    "\n",
    "# Each list of predictions in prediction_groups is a list of\n",
    "# (word, box) tuples.\n",
    "prediction_groups = pipeline.recognize(images)"
   ]
  },
  {
   "cell_type": "code",
   "execution_count": 4,
   "metadata": {},
   "outputs": [],
   "source": [
    "str=\" \"\n",
    "for prediction in prediction_groups:\n",
    "    for tuple in prediction:\n",
    "        str+= ' '+(tuple[0])"
   ]
  },
  {
   "cell_type": "code",
   "execution_count": 5,
   "metadata": {},
   "outputs": [
    {
     "name": "stdout",
     "output_type": "stream",
     "text": [
      "  document is written drawn presenteds memorialized a a or representation of thought often the manifestation of nonfictional usually as well as fictional content in the past the word was used to denote written proof useful as evidence of truth or fact in a the computer ages document usually denotes primarily a textual computer including its structure format fonts filed and es g colours and images\n"
     ]
    }
   ],
   "source": [
    "print(str)"
   ]
  },
  {
   "cell_type": "code",
   "execution_count": 6,
   "metadata": {},
   "outputs": [],
   "source": [
    "from spellchecker import SpellChecker\n",
    "import pyttsx3"
   ]
  },
  {
   "cell_type": "code",
   "execution_count": 7,
   "metadata": {},
   "outputs": [
    {
     "name": "stdout",
     "output_type": "stream",
     "text": [
      "  document is written drawn presented memorialized a a or representation of thought often the manifestation of nonfiction usually as well as fictional content in the past the word was used to denote written proof useful as evidence of truth or fact in a the computer ages document usually denotes primarily a textual computer including its structure format fonts filed and es i colours and images\n"
     ]
    }
   ],
   "source": [
    "spell = SpellChecker()\n",
    "corrected = \" \"\n",
    "engine = pyttsx3.init()\n",
    "for word in str.split():\n",
    "    x = spell.correction(word)\n",
    "    corrected+= ' '+ x\n",
    "print(corrected)"
   ]
  },
  {
   "cell_type": "code",
   "execution_count": 8,
   "metadata": {},
   "outputs": [],
   "source": [
    "def close():\n",
    "    root.destroy()\n",
    "\n",
    "root =Tk()\n",
    "root.title('ORC AI')\n",
    "var_1=StringVar()\n",
    "label_1=Label(root,\n",
    "             relief= \"solid\",\n",
    "             font=\"Times 22 bold\",\n",
    "             textvariable=var_1)\n",
    "label_1.pack()\n",
    "var_1.set(corrected)  \n",
    "button = Button(root, text = 'Close the window', command = close)\n",
    "button.pack(pady = 10)\n",
    " \n",
    "root.mainloop()\n",
    "\n",
    "\n"
   ]
  },
  {
   "cell_type": "code",
   "execution_count": null,
   "metadata": {},
   "outputs": [],
   "source": [
    "for word in corrected.split():\n",
    "    engine.say(spell.correction(word))\n",
    "    engine.runAndWait()"
   ]
  },
  {
   "cell_type": "code",
   "execution_count": null,
   "metadata": {},
   "outputs": [],
   "source": []
  },
  {
   "cell_type": "code",
   "execution_count": null,
   "metadata": {},
   "outputs": [],
   "source": []
  },
  {
   "cell_type": "code",
   "execution_count": null,
   "metadata": {},
   "outputs": [],
   "source": []
  },
  {
   "cell_type": "code",
   "execution_count": null,
   "metadata": {},
   "outputs": [],
   "source": []
  },
  {
   "cell_type": "code",
   "execution_count": null,
   "metadata": {},
   "outputs": [],
   "source": []
  }
 ],
 "metadata": {
  "kernelspec": {
   "display_name": "Python 3",
   "language": "python",
   "name": "python3"
  },
  "language_info": {
   "codemirror_mode": {
    "name": "ipython",
    "version": 3
   },
   "file_extension": ".py",
   "mimetype": "text/x-python",
   "name": "python",
   "nbconvert_exporter": "python",
   "pygments_lexer": "ipython3",
   "version": "3.7.3"
  }
 },
 "nbformat": 4,
 "nbformat_minor": 4
}
